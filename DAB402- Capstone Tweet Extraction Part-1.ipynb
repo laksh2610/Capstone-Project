{
 "cells": [
  {
   "cell_type": "code",
   "execution_count": 7,
   "id": "7043c631",
   "metadata": {},
   "outputs": [
    {
     "name": "stdout",
     "output_type": "stream",
     "text": [
      "Collecting tweepy\n",
      "  Downloading tweepy-4.10.0-py3-none-any.whl (94 kB)\n",
      "Collecting oauthlib<4,>=3.2.0\n",
      "  Using cached oauthlib-3.2.0-py3-none-any.whl (151 kB)\n",
      "Collecting requests-oauthlib<2,>=1.2.0\n",
      "  Using cached requests_oauthlib-1.3.1-py2.py3-none-any.whl (23 kB)\n",
      "Requirement already satisfied: requests<3,>=2.27.0 in c:\\users\\laksh\\anaconda3\\lib\\site-packages (from tweepy) (2.27.1)\n",
      "Requirement already satisfied: certifi>=2017.4.17 in c:\\users\\laksh\\anaconda3\\lib\\site-packages (from requests<3,>=2.27.0->tweepy) (2021.10.8)\n",
      "Requirement already satisfied: idna<4,>=2.5 in c:\\users\\laksh\\anaconda3\\lib\\site-packages (from requests<3,>=2.27.0->tweepy) (3.3)\n",
      "Requirement already satisfied: charset-normalizer~=2.0.0 in c:\\users\\laksh\\anaconda3\\lib\\site-packages (from requests<3,>=2.27.0->tweepy) (2.0.4)\n",
      "Requirement already satisfied: urllib3<1.27,>=1.21.1 in c:\\users\\laksh\\anaconda3\\lib\\site-packages (from requests<3,>=2.27.0->tweepy) (1.26.9)\n",
      "Installing collected packages: oauthlib, requests-oauthlib, tweepy\n",
      "Successfully installed oauthlib-3.2.0 requests-oauthlib-1.3.1 tweepy-4.10.0\n"
     ]
    }
   ],
   "source": [
    "## !pip install tweepy --user\n"
   ]
  },
  {
   "cell_type": "code",
   "execution_count": 8,
   "id": "313ae45f",
   "metadata": {},
   "outputs": [
    {
     "name": "stdout",
     "output_type": "stream",
     "text": [
      "Collecting configparser\n",
      "  Using cached configparser-5.2.0-py3-none-any.whl (19 kB)\n",
      "Installing collected packages: configparser\n",
      "Successfully installed configparser-5.2.0\n"
     ]
    }
   ],
   "source": [
    "## !pip install configparser"
   ]
  },
  {
   "cell_type": "code",
   "execution_count": 12,
   "id": "452ee228",
   "metadata": {},
   "outputs": [
    {
     "name": "stdout",
     "output_type": "stream",
     "text": [
      "Collecting snscrape\n",
      "  Using cached snscrape-0.4.3.20220106-py3-none-any.whl (59 kB)\n",
      "Requirement already satisfied: beautifulsoup4 in c:\\users\\laksh\\anaconda3\\lib\\site-packages (from snscrape) (4.11.1)\n",
      "Requirement already satisfied: lxml in c:\\users\\laksh\\anaconda3\\lib\\site-packages (from snscrape) (4.8.0)\n",
      "Requirement already satisfied: requests[socks] in c:\\users\\laksh\\anaconda3\\lib\\site-packages (from snscrape) (2.27.1)\n",
      "Requirement already satisfied: filelock in c:\\users\\laksh\\anaconda3\\lib\\site-packages (from snscrape) (3.6.0)\n",
      "Requirement already satisfied: soupsieve>1.2 in c:\\users\\laksh\\anaconda3\\lib\\site-packages (from beautifulsoup4->snscrape) (2.3.1)\n",
      "Requirement already satisfied: charset-normalizer~=2.0.0 in c:\\users\\laksh\\anaconda3\\lib\\site-packages (from requests[socks]->snscrape) (2.0.4)\n",
      "Requirement already satisfied: idna<4,>=2.5 in c:\\users\\laksh\\anaconda3\\lib\\site-packages (from requests[socks]->snscrape) (3.3)\n",
      "Requirement already satisfied: certifi>=2017.4.17 in c:\\users\\laksh\\anaconda3\\lib\\site-packages (from requests[socks]->snscrape) (2021.10.8)\n",
      "Requirement already satisfied: urllib3<1.27,>=1.21.1 in c:\\users\\laksh\\anaconda3\\lib\\site-packages (from requests[socks]->snscrape) (1.26.9)\n",
      "Requirement already satisfied: PySocks!=1.5.7,>=1.5.6 in c:\\users\\laksh\\anaconda3\\lib\\site-packages (from requests[socks]->snscrape) (1.7.1)\n",
      "Installing collected packages: snscrape\n",
      "Successfully installed snscrape-0.4.3.20220106\n"
     ]
    }
   ],
   "source": [
    "#!pip3 install snscrape\n",
    "\n",
    "##Just Installing snsscrape"
   ]
  },
  {
   "cell_type": "code",
   "execution_count": 13,
   "id": "9921fd54",
   "metadata": {},
   "outputs": [],
   "source": [
    "import snscrape.modules.twitter as sntwitter\n",
    "import pandas as pd\n",
    "from datetime import datetime"
   ]
  },
  {
   "cell_type": "code",
   "execution_count": 21,
   "id": "962e542d",
   "metadata": {},
   "outputs": [],
   "source": [
    "data1 = pd.DataFrame((sntwitter.TwitterSearchScraper(\n",
    "    '#TSLA since:2021-05-01 until:2022-05-01 lang:en').get_items()))"
   ]
  },
  {
   "cell_type": "code",
   "execution_count": 25,
   "id": "c650494b",
   "metadata": {},
   "outputs": [],
   "source": [
    "data1.to_csv('C:\\\\Users\\\\laksh\\\\Desktop\\\\TSLA.csv')"
   ]
  },
  {
   "cell_type": "code",
   "execution_count": 38,
   "id": "c83b0f94",
   "metadata": {},
   "outputs": [],
   "source": [
    "data2 = pd.DataFrame((sntwitter.TwitterSearchScraper(\n",
    "    '#AMZN since:2021-05-01 until:2022-05-01 lang:en').get_items()))"
   ]
  },
  {
   "cell_type": "code",
   "execution_count": null,
   "id": "4da16b53",
   "metadata": {},
   "outputs": [],
   "source": [
    "data2.to_csv('C:\\\\Users\\\\laksh\\\\Desktop\\\\AMZN.csv')"
   ]
  },
  {
   "cell_type": "code",
   "execution_count": 41,
   "id": "465eb8ed",
   "metadata": {},
   "outputs": [
    {
     "data": {
      "text/plain": [
       "(8798, 27)"
      ]
     },
     "execution_count": 41,
     "metadata": {},
     "output_type": "execute_result"
    }
   ],
   "source": [
    "data2.shape"
   ]
  },
  {
   "cell_type": "code",
   "execution_count": 29,
   "id": "092553c8",
   "metadata": {},
   "outputs": [],
   "source": [
    "data3 = pd.DataFrame((sntwitter.TwitterSearchScraper(\n",
    "    '#AAPL since:2021-05-01 until:2022-05-01 lang:en').get_items()))"
   ]
  },
  {
   "cell_type": "code",
   "execution_count": 31,
   "id": "941f3686",
   "metadata": {},
   "outputs": [],
   "source": [
    "data3.to_csv('C:\\\\Users\\\\laksh\\\\Desktop\\\\AAPL.csv')"
   ]
  },
  {
   "cell_type": "code",
   "execution_count": 32,
   "id": "e11cdb49",
   "metadata": {},
   "outputs": [],
   "source": [
    "data4 = pd.DataFrame((sntwitter.TwitterSearchScraper(\n",
    "    '#MSFT since:2021-05-01 until:2022-05-01 lang:en').get_items()))"
   ]
  },
  {
   "cell_type": "code",
   "execution_count": 53,
   "id": "2c06c966",
   "metadata": {},
   "outputs": [],
   "source": [
    "data4.to_csv('C:\\\\Users\\\\laksh\\\\Desktop\\\\MSFT.csv')"
   ]
  },
  {
   "cell_type": "code",
   "execution_count": 46,
   "id": "9e33562b",
   "metadata": {},
   "outputs": [],
   "source": [
    "data5 = pd.DataFrame((sntwitter.TwitterSearchScraper(\n",
    "    '#FB since:2021-05-01 until:2022-05-01 lang:en').get_items()))"
   ]
  },
  {
   "cell_type": "code",
   "execution_count": 52,
   "id": "00e736e2",
   "metadata": {},
   "outputs": [],
   "source": [
    "data5.to_csv('C:\\\\Users\\\\laksh\\\\Desktop\\\\FB.csv')"
   ]
  },
  {
   "cell_type": "code",
   "execution_count": 47,
   "id": "91a2cc98",
   "metadata": {},
   "outputs": [
    {
     "data": {
      "text/plain": [
       "(78111, 27)"
      ]
     },
     "execution_count": 47,
     "metadata": {},
     "output_type": "execute_result"
    }
   ],
   "source": [
    "data5.shape"
   ]
  },
  {
   "cell_type": "code",
   "execution_count": 49,
   "id": "b505f6a2",
   "metadata": {},
   "outputs": [],
   "source": [
    "\n",
    "frames = [data1, data2, data3,data4,data5]"
   ]
  },
  {
   "cell_type": "code",
   "execution_count": 58,
   "id": "f8640dea",
   "metadata": {},
   "outputs": [],
   "source": [
    "frames = [data1, data2, data3,data4,data5]\n",
    "final = pd.concat(frames,ignore_index=True)\n"
   ]
  },
  {
   "cell_type": "code",
   "execution_count": 62,
   "id": "530bec99",
   "metadata": {},
   "outputs": [],
   "source": [
    "final.to_csv('C:\\\\Users\\\\laksh\\\\Desktop\\\\Final.csv')"
   ]
  },
  {
   "cell_type": "code",
   "execution_count": 61,
   "id": "3e8b7652",
   "metadata": {},
   "outputs": [
    {
     "data": {
      "text/plain": [
       "(157559, 27)"
      ]
     },
     "execution_count": 61,
     "metadata": {},
     "output_type": "execute_result"
    }
   ],
   "source": [
    "final.shape"
   ]
  },
  {
   "cell_type": "code",
   "execution_count": 56,
   "id": "7ffc47be",
   "metadata": {},
   "outputs": [
    {
     "data": {
      "text/plain": [
       "url                              object\n",
       "date                datetime64[ns, UTC]\n",
       "content                          object\n",
       "renderedContent                  object\n",
       "id                                int64\n",
       "user                             object\n",
       "replyCount                        int64\n",
       "retweetCount                      int64\n",
       "likeCount                         int64\n",
       "quoteCount                        int64\n",
       "conversationId                    int64\n",
       "lang                             object\n",
       "source                           object\n",
       "sourceUrl                        object\n",
       "sourceLabel                      object\n",
       "outlinks                         object\n",
       "tcooutlinks                      object\n",
       "media                            object\n",
       "retweetedTweet                   object\n",
       "quotedTweet                      object\n",
       "inReplyToTweetId                float64\n",
       "inReplyToUser                    object\n",
       "mentionedUsers                   object\n",
       "coordinates                      object\n",
       "place                            object\n",
       "hashtags                         object\n",
       "cashtags                         object\n",
       "dtype: object"
      ]
     },
     "execution_count": 56,
     "metadata": {},
     "output_type": "execute_result"
    }
   ],
   "source": [
    "final.dtypes"
   ]
  },
  {
   "cell_type": "code",
   "execution_count": 57,
   "id": "c9128e16",
   "metadata": {},
   "outputs": [
    {
     "data": {
      "text/html": [
       "<div>\n",
       "<style scoped>\n",
       "    .dataframe tbody tr th:only-of-type {\n",
       "        vertical-align: middle;\n",
       "    }\n",
       "\n",
       "    .dataframe tbody tr th {\n",
       "        vertical-align: top;\n",
       "    }\n",
       "\n",
       "    .dataframe thead th {\n",
       "        text-align: right;\n",
       "    }\n",
       "</style>\n",
       "<table border=\"1\" class=\"dataframe\">\n",
       "  <thead>\n",
       "    <tr style=\"text-align: right;\">\n",
       "      <th></th>\n",
       "      <th>url</th>\n",
       "      <th>date</th>\n",
       "      <th>content</th>\n",
       "      <th>renderedContent</th>\n",
       "      <th>id</th>\n",
       "      <th>user</th>\n",
       "      <th>replyCount</th>\n",
       "      <th>retweetCount</th>\n",
       "      <th>likeCount</th>\n",
       "      <th>quoteCount</th>\n",
       "      <th>...</th>\n",
       "      <th>media</th>\n",
       "      <th>retweetedTweet</th>\n",
       "      <th>quotedTweet</th>\n",
       "      <th>inReplyToTweetId</th>\n",
       "      <th>inReplyToUser</th>\n",
       "      <th>mentionedUsers</th>\n",
       "      <th>coordinates</th>\n",
       "      <th>place</th>\n",
       "      <th>hashtags</th>\n",
       "      <th>cashtags</th>\n",
       "    </tr>\n",
       "  </thead>\n",
       "  <tbody>\n",
       "    <tr>\n",
       "      <th>0</th>\n",
       "      <td>https://twitter.com/RedTeslaGirl/status/152053...</td>\n",
       "      <td>2022-04-30 22:50:10+00:00</td>\n",
       "      <td>@MatthewCisler @tammyharrington Absolutely Mat...</td>\n",
       "      <td>@MatthewCisler @tammyharrington Absolutely Mat...</td>\n",
       "      <td>1520536015521386496</td>\n",
       "      <td>{'username': 'RedTeslaGirl', 'id': 13302347735...</td>\n",
       "      <td>0</td>\n",
       "      <td>0</td>\n",
       "      <td>2</td>\n",
       "      <td>0</td>\n",
       "      <td>...</td>\n",
       "      <td>[{'thumbnailUrl': 'https://pbs.twimg.com/tweet...</td>\n",
       "      <td>None</td>\n",
       "      <td>None</td>\n",
       "      <td>1.520535e+18</td>\n",
       "      <td>{'username': 'MatthewCisler', 'id': 2441039102...</td>\n",
       "      <td>[{'username': 'MatthewCisler', 'id': 244103910...</td>\n",
       "      <td>None</td>\n",
       "      <td>None</td>\n",
       "      <td>[Tesla, Amazing, ICE, vehicle, WorldLeader, El...</td>\n",
       "      <td>None</td>\n",
       "    </tr>\n",
       "    <tr>\n",
       "      <th>1</th>\n",
       "      <td>https://twitter.com/investoradel/status/152053...</td>\n",
       "      <td>2022-04-30 22:49:21+00:00</td>\n",
       "      <td>whats your number one over-valued stock? \\n\\nm...</td>\n",
       "      <td>whats your number one over-valued stock? \\n\\nm...</td>\n",
       "      <td>1520535808993726464</td>\n",
       "      <td>{'username': 'investoradel', 'id': 13574226280...</td>\n",
       "      <td>0</td>\n",
       "      <td>1</td>\n",
       "      <td>0</td>\n",
       "      <td>0</td>\n",
       "      <td>...</td>\n",
       "      <td>None</td>\n",
       "      <td>None</td>\n",
       "      <td>None</td>\n",
       "      <td>NaN</td>\n",
       "      <td>None</td>\n",
       "      <td>None</td>\n",
       "      <td>None</td>\n",
       "      <td>None</td>\n",
       "      <td>[TSLA, nvda]</td>\n",
       "      <td>None</td>\n",
       "    </tr>\n",
       "    <tr>\n",
       "      <th>2</th>\n",
       "      <td>https://twitter.com/TimofeyD2/status/152053571...</td>\n",
       "      <td>2022-04-30 22:48:59+00:00</td>\n",
       "      <td>“LUNA” - the headsup phone mount/charger!  #mo...</td>\n",
       "      <td>“LUNA” - the headsup phone mount/charger!  #mo...</td>\n",
       "      <td>1520535715381227521</td>\n",
       "      <td>{'username': 'TimofeyD2', 'id': 12178442473674...</td>\n",
       "      <td>0</td>\n",
       "      <td>0</td>\n",
       "      <td>2</td>\n",
       "      <td>0</td>\n",
       "      <td>...</td>\n",
       "      <td>None</td>\n",
       "      <td>None</td>\n",
       "      <td>None</td>\n",
       "      <td>NaN</td>\n",
       "      <td>None</td>\n",
       "      <td>None</td>\n",
       "      <td>None</td>\n",
       "      <td>None</td>\n",
       "      <td>[mounger, tsla, tesla, ElonMusk]</td>\n",
       "      <td>None</td>\n",
       "    </tr>\n",
       "    <tr>\n",
       "      <th>3</th>\n",
       "      <td>https://twitter.com/TimofeyD2/status/152053404...</td>\n",
       "      <td>2022-04-30 22:42:20+00:00</td>\n",
       "      <td>“Mounger” didn’t exist, it just born!  #mounge...</td>\n",
       "      <td>“Mounger” didn’t exist, it just born!  #mounge...</td>\n",
       "      <td>1520534042332049409</td>\n",
       "      <td>{'username': 'TimofeyD2', 'id': 12178442473674...</td>\n",
       "      <td>0</td>\n",
       "      <td>0</td>\n",
       "      <td>3</td>\n",
       "      <td>0</td>\n",
       "      <td>...</td>\n",
       "      <td>None</td>\n",
       "      <td>None</td>\n",
       "      <td>None</td>\n",
       "      <td>NaN</td>\n",
       "      <td>None</td>\n",
       "      <td>None</td>\n",
       "      <td>None</td>\n",
       "      <td>None</td>\n",
       "      <td>[mounger, tsla, tesla, ElonMusk]</td>\n",
       "      <td>None</td>\n",
       "    </tr>\n",
       "    <tr>\n",
       "      <th>4</th>\n",
       "      <td>https://twitter.com/LeeTyler/status/1520529946...</td>\n",
       "      <td>2022-04-30 22:26:03+00:00</td>\n",
       "      <td>Elon Musk May Reportedly Charge for Some Twitt...</td>\n",
       "      <td>Elon Musk May Reportedly Charge for Some Twitt...</td>\n",
       "      <td>1520529946287824896</td>\n",
       "      <td>{'username': 'LeeTyler', 'id': 16193678, 'disp...</td>\n",
       "      <td>0</td>\n",
       "      <td>0</td>\n",
       "      <td>0</td>\n",
       "      <td>0</td>\n",
       "      <td>...</td>\n",
       "      <td>[{'previewUrl': 'https://pbs.twimg.com/media/F...</td>\n",
       "      <td>None</td>\n",
       "      <td>None</td>\n",
       "      <td>NaN</td>\n",
       "      <td>None</td>\n",
       "      <td>None</td>\n",
       "      <td>{'longitude': -72.92308028, 'latitude': 41.311...</td>\n",
       "      <td>{'fullName': 'New Haven, CT', 'name': 'New Hav...</td>\n",
       "      <td>[TSLA, ElonMusk, Tesla, Sustainability, SDGs]</td>\n",
       "      <td>None</td>\n",
       "    </tr>\n",
       "  </tbody>\n",
       "</table>\n",
       "<p>5 rows × 27 columns</p>\n",
       "</div>"
      ],
      "text/plain": [
       "                                                 url  \\\n",
       "0  https://twitter.com/RedTeslaGirl/status/152053...   \n",
       "1  https://twitter.com/investoradel/status/152053...   \n",
       "2  https://twitter.com/TimofeyD2/status/152053571...   \n",
       "3  https://twitter.com/TimofeyD2/status/152053404...   \n",
       "4  https://twitter.com/LeeTyler/status/1520529946...   \n",
       "\n",
       "                       date  \\\n",
       "0 2022-04-30 22:50:10+00:00   \n",
       "1 2022-04-30 22:49:21+00:00   \n",
       "2 2022-04-30 22:48:59+00:00   \n",
       "3 2022-04-30 22:42:20+00:00   \n",
       "4 2022-04-30 22:26:03+00:00   \n",
       "\n",
       "                                             content  \\\n",
       "0  @MatthewCisler @tammyharrington Absolutely Mat...   \n",
       "1  whats your number one over-valued stock? \\n\\nm...   \n",
       "2  “LUNA” - the headsup phone mount/charger!  #mo...   \n",
       "3  “Mounger” didn’t exist, it just born!  #mounge...   \n",
       "4  Elon Musk May Reportedly Charge for Some Twitt...   \n",
       "\n",
       "                                     renderedContent                   id  \\\n",
       "0  @MatthewCisler @tammyharrington Absolutely Mat...  1520536015521386496   \n",
       "1  whats your number one over-valued stock? \\n\\nm...  1520535808993726464   \n",
       "2  “LUNA” - the headsup phone mount/charger!  #mo...  1520535715381227521   \n",
       "3  “Mounger” didn’t exist, it just born!  #mounge...  1520534042332049409   \n",
       "4  Elon Musk May Reportedly Charge for Some Twitt...  1520529946287824896   \n",
       "\n",
       "                                                user  replyCount  \\\n",
       "0  {'username': 'RedTeslaGirl', 'id': 13302347735...           0   \n",
       "1  {'username': 'investoradel', 'id': 13574226280...           0   \n",
       "2  {'username': 'TimofeyD2', 'id': 12178442473674...           0   \n",
       "3  {'username': 'TimofeyD2', 'id': 12178442473674...           0   \n",
       "4  {'username': 'LeeTyler', 'id': 16193678, 'disp...           0   \n",
       "\n",
       "   retweetCount  likeCount  quoteCount  ...  \\\n",
       "0             0          2           0  ...   \n",
       "1             1          0           0  ...   \n",
       "2             0          2           0  ...   \n",
       "3             0          3           0  ...   \n",
       "4             0          0           0  ...   \n",
       "\n",
       "                                               media retweetedTweet  \\\n",
       "0  [{'thumbnailUrl': 'https://pbs.twimg.com/tweet...           None   \n",
       "1                                               None           None   \n",
       "2                                               None           None   \n",
       "3                                               None           None   \n",
       "4  [{'previewUrl': 'https://pbs.twimg.com/media/F...           None   \n",
       "\n",
       "  quotedTweet inReplyToTweetId  \\\n",
       "0        None     1.520535e+18   \n",
       "1        None              NaN   \n",
       "2        None              NaN   \n",
       "3        None              NaN   \n",
       "4        None              NaN   \n",
       "\n",
       "                                       inReplyToUser  \\\n",
       "0  {'username': 'MatthewCisler', 'id': 2441039102...   \n",
       "1                                               None   \n",
       "2                                               None   \n",
       "3                                               None   \n",
       "4                                               None   \n",
       "\n",
       "                                      mentionedUsers  \\\n",
       "0  [{'username': 'MatthewCisler', 'id': 244103910...   \n",
       "1                                               None   \n",
       "2                                               None   \n",
       "3                                               None   \n",
       "4                                               None   \n",
       "\n",
       "                                         coordinates  \\\n",
       "0                                               None   \n",
       "1                                               None   \n",
       "2                                               None   \n",
       "3                                               None   \n",
       "4  {'longitude': -72.92308028, 'latitude': 41.311...   \n",
       "\n",
       "                                               place  \\\n",
       "0                                               None   \n",
       "1                                               None   \n",
       "2                                               None   \n",
       "3                                               None   \n",
       "4  {'fullName': 'New Haven, CT', 'name': 'New Hav...   \n",
       "\n",
       "                                            hashtags cashtags  \n",
       "0  [Tesla, Amazing, ICE, vehicle, WorldLeader, El...     None  \n",
       "1                                       [TSLA, nvda]     None  \n",
       "2                   [mounger, tsla, tesla, ElonMusk]     None  \n",
       "3                   [mounger, tsla, tesla, ElonMusk]     None  \n",
       "4      [TSLA, ElonMusk, Tesla, Sustainability, SDGs]     None  \n",
       "\n",
       "[5 rows x 27 columns]"
      ]
     },
     "execution_count": 57,
     "metadata": {},
     "output_type": "execute_result"
    }
   ],
   "source": [
    "final.head(5)"
   ]
  },
  {
   "cell_type": "code",
   "execution_count": null,
   "id": "ab9b942a",
   "metadata": {},
   "outputs": [],
   "source": []
  },
  {
   "cell_type": "code",
   "execution_count": 14,
   "id": "18a61e91",
   "metadata": {},
   "outputs": [],
   "source": [
    "data6 = pd.DataFrame((sntwitter.TwitterSearchScraper(\n",
    "    '#NASDAQ since:2021-05-01 until:2022-05-01 lang:en').get_items()))\n"
   ]
  },
  {
   "cell_type": "code",
   "execution_count": 15,
   "id": "303fca4c",
   "metadata": {},
   "outputs": [
    {
     "data": {
      "text/plain": [
       "(231704, 27)"
      ]
     },
     "execution_count": 15,
     "metadata": {},
     "output_type": "execute_result"
    }
   ],
   "source": [
    "data6.shape"
   ]
  }
 ],
 "metadata": {
  "kernelspec": {
   "display_name": "Python 3 (ipykernel)",
   "language": "python",
   "name": "python3"
  },
  "language_info": {
   "codemirror_mode": {
    "name": "ipython",
    "version": 3
   },
   "file_extension": ".py",
   "mimetype": "text/x-python",
   "name": "python",
   "nbconvert_exporter": "python",
   "pygments_lexer": "ipython3",
   "version": "3.9.12"
  }
 },
 "nbformat": 4,
 "nbformat_minor": 5
}
